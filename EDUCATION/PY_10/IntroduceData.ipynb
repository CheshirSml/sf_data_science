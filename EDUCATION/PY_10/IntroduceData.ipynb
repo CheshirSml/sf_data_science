{
 "cells": [
  {
   "cell_type": "markdown",
   "metadata": {},
   "source": [
    "# Знакомство с данными. Недвижимость Мельбурна"
   ]
  },
  {
   "cell_type": "code",
   "execution_count": 1,
   "metadata": {},
   "outputs": [],
   "source": [
    "import pandas as pd"
   ]
  },
  {
   "cell_type": "code",
   "execution_count": 2,
   "metadata": {},
   "outputs": [],
   "source": [
    "melb_data = pd.read_csv('data/melb_data.csv', sep=',')"
   ]
  },
  {
   "cell_type": "code",
   "execution_count": 8,
   "metadata": {},
   "outputs": [
    {
     "data": {
      "text/plain": [
       "index                               90\n",
       "Suburb                     Albert Park\n",
       "Address                  24 Kerferd Pl\n",
       "Rooms                                3\n",
       "Type                                 h\n",
       "Price                        1800000.0\n",
       "Method                               S\n",
       "SellerG                       Marshall\n",
       "Date                        10/09/2016\n",
       "Distance                           3.3\n",
       "Postcode                          3206\n",
       "Bedroom                            3.0\n",
       "Bathroom                           2.0\n",
       "Car                                1.0\n",
       "Landsize                          90.0\n",
       "BuildingArea                     122.0\n",
       "YearBuilt                       1900.0\n",
       "CouncilArea               Port Phillip\n",
       "Lattitude                     -37.8421\n",
       "Longtitude                    144.9571\n",
       "Regionname       Southern Metropolitan\n",
       "Propertycount                   3280.0\n",
       "Coordinates         -37.8421, 144.9571\n",
       "Name: 90, dtype: object"
      ]
     },
     "metadata": {},
     "output_type": "display_data"
    }
   ],
   "source": [
    "display(melb_data.iloc[90])"
   ]
  },
  {
   "cell_type": "code",
   "execution_count": 13,
   "metadata": {},
   "outputs": [
    {
     "data": {
      "text/plain": [
       "2.7857142857142856"
      ]
     },
     "metadata": {},
     "output_type": "display_data"
    }
   ],
   "source": [
    "raz = melb_data.loc[3521, 'Landsize']/melb_data.loc[1690, 'Landsize']\n",
    "display(raz)"
   ]
  }
 ],
 "metadata": {
  "kernelspec": {
   "display_name": "Python 3.10.2 64-bit",
   "language": "python",
   "name": "python3"
  },
  "language_info": {
   "codemirror_mode": {
    "name": "ipython",
    "version": 3
   },
   "file_extension": ".py",
   "mimetype": "text/x-python",
   "name": "python",
   "nbconvert_exporter": "python",
   "pygments_lexer": "ipython3",
   "version": "3.10.2"
  },
  "orig_nbformat": 4,
  "vscode": {
   "interpreter": {
    "hash": "5e2af71f6f660cc6bf5236c58e63379b5399369edcb8b10b6a4ef21e29a810da"
   }
  }
 },
 "nbformat": 4,
 "nbformat_minor": 2
}
