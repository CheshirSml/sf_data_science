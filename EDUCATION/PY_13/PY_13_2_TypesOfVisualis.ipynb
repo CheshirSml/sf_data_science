{
 "cells": [
  {
   "attachments": {},
   "cell_type": "markdown",
   "metadata": {},
   "source": [
    "# Обзор типов визуализации"
   ]
  },
  {
   "attachments": {},
   "cell_type": "markdown",
   "metadata": {},
   "source": [
    "Прежде чем мы перейдём к изучению программной визуализации, нам необходимо познакомиться с **основными терминами и типами графиков**, которые используются специалистами в Data Science."
   ]
  },
  {
   "attachments": {},
   "cell_type": "markdown",
   "metadata": {},
   "source": [
    "Начнём с терминологии."
   ]
  },
  {
   "attachments": {},
   "cell_type": "markdown",
   "metadata": {},
   "source": [
    "**Система координат** — это способ определения положения точки в пространстве или на плоскости. Самая простая система координат — двумерная прямоугольная, или декартова, система координат, с которой вы знакомы из уроков математики в школе. Каждой точке в этой системе соответствуют два значения: значение по оси абсцисс и значение по оси ординат."
   ]
  },
  {
   "attachments": {},
   "cell_type": "markdown",
   "metadata": {},
   "source": [
    "**Ось абсцисс** — горизонтальная ось в прямоугольной системе координат. Традиционно её называют осью X."
   ]
  },
  {
   "attachments": {},
   "cell_type": "markdown",
   "metadata": {},
   "source": [
    "**Ось ординат** — вертикальная ось в прямоугольной системе координат. Традиционно её называют осью Y."
   ]
  },
  {
   "attachments": {},
   "cell_type": "markdown",
   "metadata": {},
   "source": [
    "Своё название прямоугольная система координат получила за то, что её оси перпендикулярны друг другу, т. е. находятся под прямым углом."
   ]
  },
  {
   "attachments": {},
   "cell_type": "markdown",
   "metadata": {},
   "source": [
    "![2_1](Image/2_1.png)"
   ]
  },
  {
   "attachments": {},
   "cell_type": "markdown",
   "metadata": {},
   "source": [
    "*Большинство графиков, которые мы будем рассматривать, будут построены именно в прямоугольной системе координат.*"
   ]
  },
  {
   "attachments": {},
   "cell_type": "markdown",
   "metadata": {},
   "source": [
    "Наука о данных насчитывает в своём арсенале десятки различных типов визуализации для анализа, однако запоминать их все не имеет смысла, так как большинство из них специфичны для разного рода задач и их с лёгкостью можно найти в документации."
   ]
  },
  {
   "attachments": {},
   "cell_type": "markdown",
   "metadata": {},
   "source": [
    "*Мы с вами познакомимся с основными и самыми популярными видами графиков и диаграмм, а также с областями их применения и в дальнейшем научимся строить их с помощью Python.*"
   ]
  },
  {
   "attachments": {},
   "cell_type": "markdown",
   "metadata": {},
   "source": [
    "**ОСНОВНЫЕ ТИПЫ ВИЗУАЛИЗАЦИИ:**"
   ]
  },
  {
   "attachments": {},
   "cell_type": "markdown",
   "metadata": {},
   "source": [
    "- линейный график;\n",
    "- гистограмма;\n",
    "- диаграмма рассеяния;\n",
    "- коробчатая диаграмма;\n",
    "- круговая диаграмма;\n",
    "- столбчатая диаграмма;\n",
    "- тепловая карта."
   ]
  },
  {
   "attachments": {},
   "cell_type": "markdown",
   "metadata": {},
   "source": [
    "Для каждого типа визуализации, который мы будем рассматривать далее, приведён пример на реальных датасетах, сам источник данных и выводы, которые можно сделать, исходя из графика.\n",
    "\n",
    "Также к каждому графику прилагается код для его построения, который вы сможете разобрать сами, после того как изучите материал модуля. Так вы сможете понять, остались ли у вас пробелы, и, если построение какого-то из графиков всё-таки вызовет у вас затруднение, сразу вернуться и закрепить материал."
   ]
  },
  {
   "attachments": {},
   "cell_type": "markdown",
   "metadata": {},
   "source": [
    "## ЛИНЕЙНЫЙ ГРАФИК (LINEPLOT)"
   ]
  },
  {
   "attachments": {},
   "cell_type": "markdown",
   "metadata": {},
   "source": [
    "Это самый простой тип графика. Вы, несомненно, рисовали такие на уроках математики в школе."
   ]
  },
  {
   "attachments": {},
   "cell_type": "markdown",
   "metadata": {},
   "source": [
    "**Линейный график** *представляет собой последовательность точек, соединённых линией. Каждая точка — это пара координат x и y, которые отображены по осям абсцисс и ординат (в двумерном случае).*"
   ]
  },
  {
   "attachments": {},
   "cell_type": "markdown",
   "metadata": {},
   "source": [
    "На практике, в Data Science такие графики чаще всего используются для визуализации **временных рядов**, например чтобы отследить динамику продаж во времени, число активных пользователей по дням, изменение курса валют и акций.  \n",
    "\n",
    "График бывает особенно полезен, когда вы пытаетесь спрогнозировать ряд и вам необходимо увидеть свой прогноз на графике и сравнить его с действительностью.  \n",
    "\n",
    "Несмотря на свою простоту, при правильном применении линейный график может быть очень информативным и полезным: он позволяет выявить тенденцию движения показателя и найти ключевые точки его роста или падения.  "
   ]
  },
  {
   "attachments": {},
   "cell_type": "markdown",
   "metadata": {},
   "source": [
    "**Временной ряд** *— упорядоченная последовательность измерений показателя за некоторый период времени.* "
   ]
  },
  {
   "attachments": {},
   "cell_type": "markdown",
   "metadata": {},
   "source": [
    "**ПРИМЕР:**"
   ]
  },
  {
   "attachments": {},
   "cell_type": "markdown",
   "metadata": {},
   "source": [
    "Ниже представлен график динамики продаж видеоигр в зависимости от региона. По оси ординат отложено число проданных дисков с видеоиграми (в миллионах) в различных регионах (NA — Северная Америка, EU — Европа, JP — Япония, Other — другие регионы, Global — во всём мире), по оси абсцисс — год выпуска игры."
   ]
  },
  {
   "attachments": {},
   "cell_type": "markdown",
   "metadata": {},
   "source": [
    "![2_2](Image/2_2.png)"
   ]
  },
  {
   "attachments": {},
   "cell_type": "markdown",
   "metadata": {},
   "source": [
    "https://www.kaggle.com/rush4ratio/video-game-sales-with-ratings"
   ]
  },
  {
   "attachments": {},
   "cell_type": "markdown",
   "metadata": {},
   "source": [
    "Из графика отчётливо виден рост числа продаж видеоигр по всем рынкам примерно до 2007 года, после чего наблюдается резкий спад и неизбежное приближение числа продаж к 0 в 2020 году. Вполне объяснимое явление: именно в этот период наступает эра интернет-магазинов видеоигр и люди постепенно уходят от дисковых накопителей.\n",
    "\n",
    "На графике можно отследить лидеров продаж, то, как они менялись, какие страны влияют на общие продажи, где абсолютный и относительный прирост продаж в динамике выше, а где — ниже."
   ]
  },
  {
   "attachments": {},
   "cell_type": "markdown",
   "metadata": {},
   "source": [
    "*Код для построения графика:*"
   ]
  },
  {
   "cell_type": "code",
   "execution_count": null,
   "metadata": {},
   "outputs": [],
   "source": [
    "import matplotlib.pyplot as plt\n",
    "import seaborn as sns\n",
    "import pandas as pd\n",
    "\n",
    "vg_data = pd.read_csv('data/vgsales.csv')\n",
    "dinamic_by_region = vg_data[\n",
    "        ['NA_Sales', 'EU_Sales', 'JP_Sales', 'Other_Sales', 'Global_Sales', 'Year_of_Release']\n",
    "    ].groupby('Year_of_Release').sum()\n",
    "\n",
    "fig = plt.figure(figsize=(12, 6))\n",
    "lineplot = sns.lineplot(data=dinamic_by_region)\n",
    "lineplot.set_title('Динамика продаж видеоигр', fontsize=16)\n",
    "lineplot.set_xlabel('Год выпуска')\n",
    "lineplot.set_ylabel('Суммарный объём продаж')"
   ]
  },
  {
   "attachments": {},
   "cell_type": "markdown",
   "metadata": {},
   "source": [
    "## ГИСТОГРАММА (HISTOGRAM)"
   ]
  },
  {
   "attachments": {},
   "cell_type": "markdown",
   "metadata": {},
   "source": [
    "**Гистограмма** *— это способ визуализации частоты попадания признака в некоторый численный интервал. Гистограмма состоит из прямоугольников, расположенных вдоль оси x.*"
   ]
  },
  {
   "attachments": {},
   "cell_type": "markdown",
   "metadata": {},
   "source": [
    "Ось разбита на интервалы, их ещё называют корзинами (bins), их число задаётся пользователем. Ширина интервалов одинакова и задаёт ширину прямоугольника.\n",
    "\n",
    "По оси y откладывается высота прямоугольника — количество наблюдений, которые попали в интервал. Чем выше столбик, тем больше наблюдений находятся в интервале.\n",
    "\n",
    "Гистограммы часто используются для оценки **распределения** числового признака, например мы можем понять, как распределены цены на товары, число шагов, которые делает пользователь умных часов, масса метеоритов, падающих на землю."
   ]
  },
  {
   "attachments": {},
   "cell_type": "markdown",
   "metadata": {},
   "source": [
    "**Распределения** *Об основных типах распределений мы ещё будем подробно говорить в разделе по теории вероятности, а пока разберём этот термин на примере →*"
   ]
  },
  {
   "attachments": {},
   "cell_type": "markdown",
   "metadata": {},
   "source": [
    "**ПРИМЕР:**"
   ]
  },
  {
   "attachments": {},
   "cell_type": "markdown",
   "metadata": {},
   "source": [
    "Ниже приведено два вида гистограмм с общей осью.\n",
    "\n",
    "Верхняя гистограмма описывает общее распределение стоимости недвижимости в Мельбурне. Весь диапазон цен разбит на 30 равных интервалов. На каждом интервале строится прямоугольник, его высота — число объектов, стоимость которых лежит в этом интервале.\n",
    "\n",
    "Нижняя гистограмма описывает то же распределение, но с учётом типов недвижимости. Здесь число объектов, попавших в корзину, обозначается интенсивностью цвета: чем темнее полоса, тем больше в данных объектов с ценой из этого интервала."
   ]
  },
  {
   "attachments": {},
   "cell_type": "markdown",
   "metadata": {},
   "source": [
    "![2_3](Image/2_3.png)"
   ]
  },
  {
   "attachments": {},
   "cell_type": "markdown",
   "metadata": {},
   "source": [
    "https://www.kaggle.com/dansbecker/melbourne-housing-snapshot"
   ]
  },
  {
   "attachments": {},
   "cell_type": "markdown",
   "metadata": {},
   "source": [
    "Во-первых, основная часть цен на объекты сосредоточена в интервале от  0.1 до 2 млн, и наибольшее число цен лежит в интервале от 0.9 до 1.2 млн (самый высокий прямоугольник). Далее при повышении цены количество объектов только падает, что вполне соответствует жизненным реалиям — дорогих и роскошных домов гораздо меньше, чем домов среднего ценового сегмента. Забегая вперёд, в тему теории вероятности, скажем, что данная гистограмма очень напоминает логарифмическое нормальное распределение. Такой вид распределения очень распространён на практике.\n",
    "\n",
    "Во-вторых, как видно из нижней гистограммы, объекты типа house (h) имеют схожее с общим распределение — их максимальная частота также наблюдается в третьем интервале, после чего идёт постепенное падение частоты (бледные полосы на высоких значениях цен). Цены на объекты типов unit (u) не превышают 4 млн, и их максимум наблюдается во втором интервале. Таунхаусы (t) имеют почти одинаковую частоту в каждом ценовом сегменте."
   ]
  },
  {
   "attachments": {},
   "cell_type": "markdown",
   "metadata": {},
   "source": [
    "*Код для построения графика:*"
   ]
  },
  {
   "cell_type": "code",
   "execution_count": null,
   "metadata": {},
   "outputs": [],
   "source": [
    "import matplotlib.pyplot as plt\n",
    "import seaborn as sns\n",
    "import pandas as pd\n",
    "\n",
    "melb_data = pd.read_csv('data/melb_data.csv')\n",
    "\n",
    "fig, axes = plt.subplots(nrows=2, ncols=1, figsize=(12, 10))\n",
    "plt.subplots_adjust(hspace=.0)\n",
    "\n",
    "histplot1 = sns.histplot(\n",
    "    data=melb_data, \n",
    "    x='Price', \n",
    "    bins=30,\n",
    "    ax=axes[0],\n",
    ")\n",
    "histplot1.set_title('Распределение стоимости недвижимости в Мельбурне', fontsize=16)\n",
    "histplot1.set_xlabel('Цена объекта (млн. австралийских долларов)')\n",
    "histplot1.set_ylabel('Число объектов')\n",
    "\n",
    "histplot2 = sns.histplot(\n",
    "    data=melb_data,\n",
    "    x='Price',\n",
    "    y='Type',\n",
    "    bins=30,\n",
    "    color='green',\n",
    "    ax=axes[1]\n",
    ")\n",
    "histplot2.set_xlabel('Цена объекта (млн. австралийских долларов)')\n",
    "histplot2.set_ylabel('Тип объекта')"
   ]
  },
  {
   "attachments": {},
   "cell_type": "markdown",
   "metadata": {},
   "source": [
    "## ДИАГРАММА РАССЕЯНИЯ (SCATTERPLOT)"
   ]
  },
  {
   "attachments": {},
   "cell_type": "markdown",
   "metadata": {},
   "source": [
    "Другое название этого графика — **точечная диаграмма**."
   ]
  },
  {
   "attachments": {},
   "cell_type": "markdown",
   "metadata": {},
   "source": [
    "*График представляет собой облака точек: по оси абсцисс откладывается одна числовая переменная, по оси ординат — вторая, а каждая точка на графике — это запись из таблицы.*"
   ]
  },
  {
   "attachments": {},
   "cell_type": "markdown",
   "metadata": {},
   "source": [
    "Диаграммы рассеяния являются стандартным средством визуализации связи между двумя **числовыми** переменными. Однако через настройки графика в исследование зависимости можно добавить и несколько **категориальных** переменных.\n",
    "\n",
    "Диаграммы рассеяния являются мощным инструментом, который очень широко используется в Data Science. С их помощью мы можем увидеть, как зависит (или не зависит) давление от возраста пациента, объём продаж товаров от количества показанной рекламы и т. д.\n",
    "\n",
    "Оценив взаимосвязь признаков, мы можем принять решение об использовании какого-то из признаков для предсказания."
   ]
  },
  {
   "attachments": {},
   "cell_type": "markdown",
   "metadata": {},
   "source": [
    "**ПРИМЕР:**"
   ]
  },
  {
   "attachments": {},
   "cell_type": "markdown",
   "metadata": {},
   "source": [
    "Окунёмся немного в орнитологию. На диаграмме рассеяния ниже показана зависимость длины крыльев пингвинов от длины их клюва в миллиметрах. При этом цвет точки на графике зависит от вида пингвина, а размер точки — от пола птицы. Итого на одном графике уместилась зависимость сразу между четырьмя признаками! И это ещё не предел."
   ]
  },
  {
   "attachments": {},
   "cell_type": "markdown",
   "metadata": {},
   "source": [
    "![2_4](Image/2_4.png)"
   ]
  },
  {
   "attachments": {},
   "cell_type": "markdown",
   "metadata": {},
   "source": [
    "https://github.com/allisonhorst/palmerpenguins"
   ]
  },
  {
   "attachments": {},
   "cell_type": "markdown",
   "metadata": {},
   "source": [
    "Из диаграммы рассеяния отчётливо видна прямая связь параметров тела пингвина: чем больше длина клюва, тем больше длина крыльев. Причём облака точек разного цвета плотно сгруппированы относительно своих центров, и, основываясь на длине клюва и крыльев и на половой принадлежности птицы, можно достаточно хорошо предсказать вид пингвина. К тому же ярко виден половой диморфизм: длина клюва и крыльев у самцов несколько больше, чем у самок."
   ]
  },
  {
   "attachments": {},
   "cell_type": "markdown",
   "metadata": {},
   "source": [
    "*Код для построения графика:*"
   ]
  },
  {
   "cell_type": "code",
   "execution_count": null,
   "metadata": {},
   "outputs": [],
   "source": [
    "import matplotlib.pyplot as plt\n",
    "import seaborn as sns\n",
    "import pandas as pd\n",
    "\n",
    "penguins_df = sns.load_dataset(\"penguins\")\n",
    "\n",
    "fig = plt.figure(figsize=(10, 5))\n",
    "\n",
    "scatterplot = sns.scatterplot(\n",
    "    data=penguins_df,\n",
    "    x='bill_length_mm',\n",
    "    y='flipper_length_mm',\n",
    "    hue='species',\n",
    "    s=100,\n",
    "    size='sex',\n",
    "    sizes=(50, 300)\n",
    "\n",
    ")\n",
    "scatterplot.set_title('Взаимосвязь размеров параметров тела разных видов пингвинов', fontsize=16)\n",
    "scatterplot.set_xlabel('Длина клюва')\n",
    "scatterplot.set_ylabel('Длина крыльев')"
   ]
  },
  {
   "attachments": {},
   "cell_type": "markdown",
   "metadata": {},
   "source": [
    "**Примечание.** *Стоит отметить, что во всех реализациях диаграммы рассеяния в Python, помимо цвета и размера маркера, можно также выбирать его форму (крестообразную/квадратную и т. д.).*"
   ]
  },
  {
   "attachments": {},
   "cell_type": "markdown",
   "metadata": {},
   "source": [
    "## КРУГОВАЯ ДИАГРАММА (PIE CHART)"
   ]
  },
  {
   "attachments": {},
   "cell_type": "markdown",
   "metadata": {},
   "source": [
    "Синонимичные названия диаграммы — **пироговая диаграмма** и **секторная диаграмма**."
   ]
  },
  {
   "attachments": {},
   "cell_type": "markdown",
   "metadata": {},
   "source": [
    "**Круговая диаграмма** представляет собой круг, разделённый на секторы. Весь круг составляет 100 %. Каждый из секторов отображает долю одной из категорий в данных, размер сектора соответствует части целого от круга."
   ]
  },
  {
   "attachments": {},
   "cell_type": "markdown",
   "metadata": {},
   "source": [
    "Диаграмма является способом визуализации для **категориального** признака: например, можно визуализировать и сравнивать доли от выручки, которые делает каждый продавец. "
   ]
  },
  {
   "attachments": {},
   "cell_type": "markdown",
   "metadata": {},
   "source": [
    "Круговые диаграммы наглядны, когда нужно показать, как делится на части что-либо целое: например, так можно визуализировать вклад каждого из продавцов в выручку магазина. Однако **круговые диаграммы неудобны, когда рассматривается больше одного признака** — в этом случае приходится добавлять отдельную диаграмму. Из-за большей информативности столбчатых диаграмм специалисты склонны выбирать именно их."
   ]
  },
  {
   "attachments": {},
   "cell_type": "markdown",
   "metadata": {},
   "source": [
    "**ПРИМЕР:**"
   ]
  },
  {
   "attachments": {},
   "cell_type": "markdown",
   "metadata": {},
   "source": [
    "Перед вами диаграмма количества погибших главных и второстепенных персонажей в сериале «Игра престолов» в зависимости от их верности какому-либо из домов. На диаграмме изображены названия семи домов (None — персонаж не принадлежал к определённому дому), а внутри секторов указано количество погибших персонажей в процентах."
   ]
  },
  {
   "attachments": {},
   "cell_type": "markdown",
   "metadata": {},
   "source": [
    "![2_5](Image/2_5.png)"
   ]
  },
  {
   "attachments": {},
   "cell_type": "markdown",
   "metadata": {},
   "source": [
    "https://www.kaggle.com/mylesoneill/game-of-thrones"
   ]
  },
  {
   "attachments": {},
   "cell_type": "markdown",
   "metadata": {},
   "source": [
    "Из представленной диаграммы видно, что большинство погибших в сериале персонажей не принадлежали ни к одному из домов. На популярный вопрос «Кого чаще убивают, верных Старкам или Ланнистерам?» однозначного ответа нет, группы приблизительно одинаковы."
   ]
  },
  {
   "attachments": {},
   "cell_type": "markdown",
   "metadata": {},
   "source": [
    "*Код для построения графика:*"
   ]
  },
  {
   "cell_type": "code",
   "execution_count": null,
   "metadata": {},
   "outputs": [],
   "source": [
    "import matplotlib.pyplot as plt\n",
    "import pandas as pd\n",
    "\n",
    "game_of_thrones_df = pd.read_csv('data/character-deaths.csv')\n",
    "game_of_thrones_df['Allegiances'] = game_of_thrones_df['Allegiances'].str.replace('House ', '')\n",
    "fig = plt.figure(figsize=(12, 6))\n",
    "ax = fig.add_axes((1, 1, 1, 1))\n",
    "deaths_count = game_of_thrones_df['Allegiances'].value_counts().sort_values(ascending=False).head(7)\n",
    "pie = ax.pie(\n",
    "    deaths_count,\n",
    "    labels=deaths_count.index,\n",
    "    autopct='%1.1f%%',\n",
    "    startangle=90\n",
    ")\n",
    "title = ax.set_title('Смертность персонажей в GoT в зависимости от их верности', fontsize=16)\n",
    "plt.show(pie)"
   ]
  },
  {
   "attachments": {},
   "cell_type": "markdown",
   "metadata": {},
   "source": [
    "## СТОЛБЧАТАЯ ДИАГРАММА (BAR CHART)"
   ]
  },
  {
   "attachments": {},
   "cell_type": "markdown",
   "metadata": {},
   "source": [
    "Столбчатая диаграмма также максимально проста: по оси x откладывается некоторый категориальный признак, для каждой категории которого рассчитан некоторый показатель (средняя цена товаров, медианная стоимость нефти, максимальная зафиксированная концентрация газа). Высота столбца и есть значение этого показателя. "
   ]
  },
  {
   "attachments": {},
   "cell_type": "markdown",
   "metadata": {},
   "source": [
    "Основное применение столбчатых диаграмм в Data Science — сравнение категорий друг с другом. Например, сравнение ресторанов по суммарной прибыли, сравнение средних расходов пользователей, сравнение медианной стоимости квартир по районам и т. д."
   ]
  },
  {
   "attachments": {},
   "cell_type": "markdown",
   "metadata": {},
   "source": [
    "*Преимущество столбчатых диаграмм над круговыми в том, что в столбчатые диаграммы можно добавлять разделение по другим категориальным признакам и рассматривать совместное распределение показателей, тем самым повышая информативность. Такие диаграммы называются **многоуровневыми**.*"
   ]
  },
  {
   "attachments": {},
   "cell_type": "markdown",
   "metadata": {},
   "source": [
    "**ПРИМЕР:**"
   ]
  },
  {
   "attachments": {},
   "cell_type": "markdown",
   "metadata": {},
   "source": [
    "В качестве примера приведём две диаграммы стоимости женского нижнего белья на сайте Amazon.\n",
    "\n",
    "На левой диаграмме изображены средние цены товаров для каждого бренда. На правой диаграмме изображены те же цены, но с разделением цветом по категориям товаров (Bras — бюстгальтеры, Panties — трусы). Правая диаграмма является многоуровневой столбчатой диаграммой."
   ]
  },
  {
   "attachments": {},
   "cell_type": "markdown",
   "metadata": {},
   "source": [
    "![2_6](Image/2_6.png)"
   ]
  },
  {
   "attachments": {},
   "cell_type": "markdown",
   "metadata": {},
   "source": [
    "https://www.kaggle.com/PromptCloudHQ/innerwear-data-from-victorias-secret-and-others"
   ]
  },
  {
   "attachments": {},
   "cell_type": "markdown",
   "metadata": {},
   "source": [
    "Из левой диаграммы видно, что наибольшую среднюю цену имеют товары бренда Compression-Comfort, а наименьшую — Lucky-Brand.\n",
    "\n",
    "Из правого графика можно заметить, что средняя цена трусов всегда ниже средней цены бюстгальтеров.\n",
    "\n",
    "Кроме того, для некоторых брендов в данных есть информация только о бюстгальтерах или только о трусах (их столбцы окрашены только синим или только оранжевым цветом)."
   ]
  },
  {
   "attachments": {},
   "cell_type": "markdown",
   "metadata": {},
   "source": [
    "*Код для построения графика:*"
   ]
  },
  {
   "cell_type": "code",
   "execution_count": null,
   "metadata": {},
   "outputs": [],
   "source": [
    "import matplotlib.pyplot as plt\n",
    "import seaborn as sns\n",
    "import pandas as pd\n",
    "\n",
    "amazon_data = pd.read_csv('data/amazon_com.csv')\n",
    "\n",
    "def replace_url(brand_name):\n",
    "    if 'ref=' in brand_name:\n",
    "        if 'Calvin' in brand_name:\n",
    "            return 'Calvin-Klein'\n",
    "        elif 'Wacoal' in brand_name:\n",
    "            return 'Wacoal'\n",
    "        else:\n",
    "            return 'b.tempt'\n",
    "    else:\n",
    "        return brand_name\n",
    "    \n",
    "amazon_data['brand_name'] = amazon_data['brand_name'].apply(replace_url)\n",
    "amazon_data['price'] = amazon_data['price'].str.replace('$', '').astype('float64')\n",
    "amazon_data['brand_name'].unique()\n",
    "fig, axes = plt.subplots(nrows=1, ncols=2, figsize=(20, 7))\n",
    "barplot1 = sns.barplot(\n",
    "    data=amazon_data,\n",
    "    x='brand_name',\n",
    "    y='price',\n",
    "    orient='v',\n",
    "    ax = axes[0],\n",
    "    ci=None\n",
    ")\n",
    "barplot1.tick_params(axis='x', rotation=70);\n",
    "barplot1.set_title('Средняя стоимость товаров по брендам', fontsize=16);\n",
    "barplot1.set_xlabel('Название бренда', fontsize=14);\n",
    "barplot1.set_ylabel('Средняя цена', fontsize=14);\n",
    "barplot1.grid()\n",
    "\n",
    "barplot2 = sns.barplot(\n",
    "    data=amazon_data,\n",
    "    x='brand_name',\n",
    "    y='price',\n",
    "    hue='product_category',\n",
    "    orient='v',\n",
    "    ax = axes[1],\n",
    "    ci=None,\n",
    "    dodge=False\n",
    ")\n",
    "barplot2.tick_params(axis='x', rotation=70);\n",
    "barplot2.set_title('Средняя стоимость товаров по брендам и категориям', fontsize=16);\n",
    "barplot2.set_xlabel('Название бренда', fontsize=14);\n",
    "barplot2.set_ylabel('Средняя цена', fontsize=14);\n",
    "barplot2.grid()"
   ]
  },
  {
   "attachments": {},
   "cell_type": "markdown",
   "metadata": {},
   "source": [
    "Начинающие исследователи часто путают столбчатые диаграммы с гистограммами. Приведём основные различия этих двух видов графиков:"
   ]
  },
  {
   "attachments": {},
   "cell_type": "markdown",
   "metadata": {},
   "source": [
    "![2_7](Image/2_7.png)"
   ]
  },
  {
   "attachments": {},
   "cell_type": "markdown",
   "metadata": {},
   "source": [
    "## ТЕПЛОВАЯ КАРТА (HEATMAP)"
   ]
  },
  {
   "attachments": {},
   "cell_type": "markdown",
   "metadata": {},
   "source": [
    "**Тепловая карта** — это графическое представление некоторой таблицы, где значения в ячейках выделяются определённым цветом или интенсивностью цвета. Таблицей может быть как DataFrame, так и, например, изображение."
   ]
  },
  {
   "attachments": {},
   "cell_type": "markdown",
   "metadata": {},
   "source": [
    "Способы применения тепловых карт разнообразны: от визуализации категорий объектов на изображениях до графического представления матриц.\n",
    "\n",
    "При исследовании табличных данных тепловые карты чаще всего применяются для визуализации сводных таблиц."
   ]
  },
  {
   "attachments": {},
   "cell_type": "markdown",
   "metadata": {},
   "source": [
    "**ПРИМЕР:**"
   ]
  },
  {
   "attachments": {},
   "cell_type": "markdown",
   "metadata": {},
   "source": [
    "Ниже представлена тепловая карта ежедневной активности в Twitter Дональда Трампа и Джо Байдена перед американскими президентскими выборами в 2020 году.\n",
    "\n",
    "На оси абсцисс отложены минуты, а на оси ординат — часы. Квадраты тепловых карт окрашены в соответствии с тем, сколько твитов было выложено кандидатами в каждую часовую/минутную ячейку за указанный период. Сбоку находится легенда, которая показывает соотношения цвета и количества твитов."
   ]
  },
  {
   "attachments": {},
   "cell_type": "markdown",
   "metadata": {},
   "source": [
    "![2_8](Image/2_8.png)"
   ]
  },
  {
   "attachments": {},
   "cell_type": "markdown",
   "metadata": {},
   "source": [
    "https://www.kaggle.com/sgwood/biden-and-trump-tweets-201720"
   ]
  },
  {
   "attachments": {},
   "cell_type": "markdown",
   "metadata": {},
   "source": [
    "Тёмная полоса, соответствующая первой половине дня, говорит о том, что оба кандидата не заходят в Twitter по утрам.\n",
    "\n",
    "У Дональда Трампа тепловая карта намного ярче, чем у Джо Байдена, что говорит о том, что Трамп выкладывает твиты намного чаще.\n",
    "\n",
    "Кроме того, можно сказать, что Байден предпочитает посещать соцсети в конце дня — основная масса его твитов сделана после семи часов вечера."
   ]
  },
  {
   "cell_type": "code",
   "execution_count": null,
   "metadata": {},
   "outputs": [],
   "source": [
    "tweets_df = pd.read_csv(\"https://bit.ly/3cngqgL\", \n",
    "                 parse_dates=['date_utc'], \n",
    "                 dtype={'hour_utc':int,'minute_utc':int,'id':str}\n",
    "                )\n",
    "g = tweets_df.groupby(['hour_utc','minute_utc','username'])\n",
    "tweet_cnt = g.id.nunique()\n",
    "jb_tweet_cnt = tweet_cnt.loc[:,:,'JoeBiden'].reset_index().pivot_table(index='hour_utc', columns='minute_utc', values='id', fill_value=0)\n",
    "dt_tweet_cnt = tweet_cnt.loc[:,:,'realDonaldTrump'].reset_index().pivot_table(index='hour_utc', columns='minute_utc', values='id', fill_value=0)\n",
    "fig, axes = plt.subplots(nrows=2, ncols=1, figsize=(16, 12))\n",
    "jb_heatmap = sns.heatmap(\n",
    "    jb_tweet_cnt,\n",
    "    linewidth=1,\n",
    "    linecolor='w',\n",
    "    cmap='viridis',\n",
    "    ax = axes[0]\n",
    ")\n",
    "jb_heatmap.set_title('@JoeBiden');\n",
    "jb_heatmap.set_xlabel('Минута часа');\n",
    "jb_heatmap.set_ylabel('Час дня');\n",
    "\n",
    "dt_heatmap = sns.heatmap(\n",
    "    dt_tweet_cnt,\n",
    "    linewidth=1,\n",
    "    linecolor='w',\n",
    "    cmap='viridis',\n",
    "    ax = axes[1]\n",
    ")\n",
    "\n",
    "dt_heatmap.set_title('@realDonaldTrump');\n",
    "dt_heatmap.set_xlabel('Минута часа');\n",
    "dt_heatmap.set_ylabel('Час дня');"
   ]
  },
  {
   "attachments": {},
   "cell_type": "markdown",
   "metadata": {},
   "source": [
    "## КОРОБЧАТАЯ ДИАГРАММА (BOXPLOT, BOX AND WHISKER PLOT)"
   ]
  },
  {
   "attachments": {},
   "cell_type": "markdown",
   "metadata": {},
   "source": [
    "Синонимичные названия диаграммы — **ящик с усами** и **диаграмма размаха**."
   ]
  },
  {
   "attachments": {},
   "cell_type": "markdown",
   "metadata": {},
   "source": [
    "**Коробчатые диаграммы**, которые были введены в употребление Джоном Тьюки в 1977 году, являются новым типом диаграмм для исследования распределения числового признака по отношению к предыдущим. Диаграмма основана на понятии квантилей."
   ]
  },
  {
   "attachments": {},
   "cell_type": "markdown",
   "metadata": {},
   "source": [
    "Приведём общую схему построения диаграммы:"
   ]
  },
  {
   "attachments": {},
   "cell_type": "markdown",
   "metadata": {},
   "source": [
    "![2_9](Image/2_9.png)"
   ]
  },
  {
   "attachments": {},
   "cell_type": "markdown",
   "metadata": {},
   "source": [
    "Для построения коробчатой диаграммы надо знать три характеристики:\n",
    "\n",
    " Q25— 25 % квантиль;\n",
    " Q50— 50 % квантиль, или медиана;\n",
    " Q75— 75 % квантиль.\n",
    "Основные составляющие графика:\n",
    "\n",
    "**1**\n",
    "Ящик, или коробка. Левая граница коробки соответствует значению Q25, правая — Q75, а линия внутри коробки — медиане. Ширина ящика называется **межквартильным размахом** (Interquartile range) и вычисляется как IQR = Q75-Q25.\n",
    "\n",
    "**2**\n",
    "Усы ящика, длина которых равна 1.5IQR. Крайние точки усов часто обозначаются в литературе как *min* и *max* и называются **границами распределения**. Фактически эти точки не всегда являются истинными минимумом и максимумом признака.\n",
    "\n",
    "**3**\n",
    "Потенциальные выбросы — точки, лежащие за пределами границ.\n",
    "\n",
    "Согласно теории Тьюки, эти точки следует считать аномалиями и они подлежат исключению из данных. Однако на практике так бывает не всегда, и необходимо проводить дополнительное исследование. Об этом мы будем говорить подробнее в модуле по очистке данных.\n",
    "\n",
    "Коробчатые диаграммы часто используются для поиска потенциальных выбросов в данных, а также для сравнения показателей нескольких распределений друг с другом: например, можно визуально сравнить медианные стоимости товаров разных магазинов или размах цен на квартиры в районах Москвы (размеры ящиков).\n",
    "\n",
    "Коробчатые диаграммы часто являются более совершенными аналогами гистограмм."
   ]
  },
  {
   "attachments": {},
   "cell_type": "markdown",
   "metadata": {},
   "source": [
    "**ПРИМЕР:**"
   ]
  },
  {
   "attachments": {},
   "cell_type": "markdown",
   "metadata": {},
   "source": [
    "Коробчатая диаграмма ниже иллюстрирует зависимость возраста пользователей компании CitiBike от типа пользователя (Customer — клиент с подпиской на 24 часа или на три дня, Subscriber — подписчик с годовой арендой велосипеда)."
   ]
  },
  {
   "attachments": {},
   "cell_type": "markdown",
   "metadata": {},
   "source": [
    "![2_10](Image/2_10.png)"
   ]
  },
  {
   "attachments": {},
   "cell_type": "markdown",
   "metadata": {},
   "source": [
    "https://www.citibikenyc.com/system-data"
   ]
  },
  {
   "attachments": {},
   "cell_type": "markdown",
   "metadata": {},
   "source": [
    "Для обеих групп пользователей приложения длина ящика с усами примерно одинакова: от 16 до 75 лет (левая и правая граница). Причём медианный возраст подписчиков с годовой арендой составляет 35 лет, а медианный возраст для клиентов с подпиской на 24 часа одинаков с 75 % квантилью и равен 49 годам (линия внутри ящика совпадает с правой линией его границы).\n",
    "\n",
    "Ещё один интересный факт: число потенциальных выбросов по возрасту среди группы Subscriber значительно больше, чем в группе Customer. Можно предположить, что пользователи с возрастом 100+ — это люди, которые намеренно или ошибочно указали неверный возраст, и среди подписчиков их больше. Этот факт нуждается в дальнейшем исследовании."
   ]
  },
  {
   "attachments": {},
   "cell_type": "markdown",
   "metadata": {},
   "source": [
    "*Код для построения графика:*"
   ]
  },
  {
   "cell_type": "code",
   "execution_count": null,
   "metadata": {},
   "outputs": [],
   "source": [
    "import matplotlib.pyplot as plt\n",
    "import seaborn as sns\n",
    "import pandas as pd\n",
    "\n",
    "citibike_df = pd.read_csv('data/citibike-tripdata.csv')\n",
    "citibike_df['age'] = 2018 - citibike_df['birth year']\n",
    "\n",
    "fig = plt.figure(figsize=(12, 6))\n",
    "boxplot = sns.boxplot(data=citibike_df, x='age', y='usertype')\n",
    "boxplot.set_title('Boxplot для возраста пользователей приложения CitiBike', fontsize=16)\n",
    "boxplot.set_xlabel('Возраст пользователя')\n",
    "boxplot.set_ylabel('Тип пользователя')"
   ]
  }
 ],
 "metadata": {
  "kernelspec": {
   "display_name": "Python 3",
   "language": "python",
   "name": "python3"
  },
  "language_info": {
   "codemirror_mode": {
    "name": "ipython",
    "version": 3
   },
   "file_extension": ".py",
   "mimetype": "text/x-python",
   "name": "python",
   "nbconvert_exporter": "python",
   "pygments_lexer": "ipython3",
   "version": "3.10.2 (tags/v3.10.2:a58ebcc, Jan 17 2022, 14:12:15) [MSC v.1929 64 bit (AMD64)]"
  },
  "orig_nbformat": 4,
  "vscode": {
   "interpreter": {
    "hash": "5e2af71f6f660cc6bf5236c58e63379b5399369edcb8b10b6a4ef21e29a810da"
   }
  }
 },
 "nbformat": 4,
 "nbformat_minor": 2
}
